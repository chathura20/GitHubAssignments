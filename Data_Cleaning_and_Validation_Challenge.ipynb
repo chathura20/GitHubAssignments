{
 "cells": [
  {
   "cell_type": "code",
   "execution_count": 1,
   "metadata": {},
   "outputs": [],
   "source": [
    "import numpy as np\n",
    "import pandas as pd\n",
    "import matplotlib.pyplot as plt\n",
    "import seaborn as sns\n",
    "%matplotlib inline"
   ]
  },
  {
   "cell_type": "code",
   "execution_count": 2,
   "metadata": {},
   "outputs": [],
   "source": [
    "#Set display options to required level\n",
    "pd.options.display.max_rows = 1000\n",
    "pd.set_option('max_colwidth', 100)"
   ]
  },
  {
   "cell_type": "markdown",
   "metadata": {},
   "source": [
    "Changed the file format due to unicode UTF-8 using excel and save as utf-8 csv file. Or can use linux to do that."
   ]
  },
  {
   "cell_type": "code",
   "execution_count": 3,
   "metadata": {
    "scrolled": false
   },
   "outputs": [
    {
     "data": {
      "text/html": [
       "<div>\n",
       "<style scoped>\n",
       "    .dataframe tbody tr th:only-of-type {\n",
       "        vertical-align: middle;\n",
       "    }\n",
       "\n",
       "    .dataframe tbody tr th {\n",
       "        vertical-align: top;\n",
       "    }\n",
       "\n",
       "    .dataframe thead th {\n",
       "        text-align: right;\n",
       "    }\n",
       "</style>\n",
       "<table border=\"1\" class=\"dataframe\">\n",
       "  <thead>\n",
       "    <tr style=\"text-align: right;\">\n",
       "      <th></th>\n",
       "      <th>PID</th>\n",
       "      <th>PUBLISHER</th>\n",
       "      <th>JOURNAL</th>\n",
       "      <th>ARTICLE</th>\n",
       "      <th>COST</th>\n",
       "    </tr>\n",
       "  </thead>\n",
       "  <tbody>\n",
       "    <tr>\n",
       "      <th>1</th>\n",
       "      <td>PMC3679557</td>\n",
       "      <td>Acs</td>\n",
       "      <td>Biomacromolecules</td>\n",
       "      <td>Structural characterization of a Model Gram-negative bacterial surface using lipopolysaccharides...</td>\n",
       "      <td>£2381.04</td>\n",
       "    </tr>\n",
       "    <tr>\n",
       "      <th>2</th>\n",
       "      <td>23043264  PMC3506128</td>\n",
       "      <td>Acs</td>\n",
       "      <td>J Med Chem</td>\n",
       "      <td>Fumaroylamino-4,5-epoxymorphinans and related opioids with irreversible ? opioid receptor antago...</td>\n",
       "      <td>£642.56</td>\n",
       "    </tr>\n",
       "    <tr>\n",
       "      <th>3</th>\n",
       "      <td>23438330 PMC3646402</td>\n",
       "      <td>Acs</td>\n",
       "      <td>J Med Chem</td>\n",
       "      <td>Orvinols with mixed kappa/mu opioid receptor agonist activity.</td>\n",
       "      <td>£669.64</td>\n",
       "    </tr>\n",
       "    <tr>\n",
       "      <th>4</th>\n",
       "      <td>23438216 PMC3601604</td>\n",
       "      <td>Acs</td>\n",
       "      <td>J Org Chem</td>\n",
       "      <td>Regioselective opening of myo-inositol orthoesters: mechanism and synthetic utility.</td>\n",
       "      <td>£685.88</td>\n",
       "    </tr>\n",
       "    <tr>\n",
       "      <th>5</th>\n",
       "      <td>PMC3579457</td>\n",
       "      <td>Acs</td>\n",
       "      <td>Journal Of Medicinal Chemistry</td>\n",
       "      <td>Comparative Structural and Functional Studies of 4-(Thiazol-5-yl)-2-(phenylamino) pyrimidine-5-c...</td>\n",
       "      <td>£2392.20</td>\n",
       "    </tr>\n",
       "  </tbody>\n",
       "</table>\n",
       "</div>"
      ],
      "text/plain": [
       "                     PID PUBLISHER                         JOURNAL  \\\n",
       "1             PMC3679557       Acs               Biomacromolecules   \n",
       "2  23043264  PMC3506128        Acs                      J Med Chem   \n",
       "3    23438330 PMC3646402       Acs                      J Med Chem   \n",
       "4   23438216 PMC3601604        Acs                      J Org Chem   \n",
       "5             PMC3579457       Acs  Journal Of Medicinal Chemistry   \n",
       "\n",
       "                                                                                               ARTICLE  \\\n",
       "1  Structural characterization of a Model Gram-negative bacterial surface using lipopolysaccharides...   \n",
       "2  Fumaroylamino-4,5-epoxymorphinans and related opioids with irreversible ? opioid receptor antago...   \n",
       "3                                       Orvinols with mixed kappa/mu opioid receptor agonist activity.   \n",
       "4                 Regioselective opening of myo-inositol orthoesters: mechanism and synthetic utility.   \n",
       "5  Comparative Structural and Functional Studies of 4-(Thiazol-5-yl)-2-(phenylamino) pyrimidine-5-c...   \n",
       "\n",
       "       COST  \n",
       "1  £2381.04  \n",
       "2   £642.56  \n",
       "3   £669.64  \n",
       "4   £685.88  \n",
       "5  £2392.20  "
      ]
     },
     "execution_count": 3,
     "metadata": {},
     "output_type": "execute_result"
    }
   ],
   "source": [
    "df = pd.read_csv(r\"C:\\Users\\chath\\Documents\\DS\\Module12\\DataCleaning\\WELLCOME_APCspend2013_forThinkful222.csv\")\n",
    "\n",
    "#change Column heading to upper case\n",
    "df.columns = [x.upper() for x in df.columns]\n",
    "\n",
    "#Rename the column heading to short and steady\n",
    "df = df.rename(columns={'PMID/PMCID': 'PID', 'JOURNAL TITLE': 'JOURNAL','ARTICLE TITLE': 'ARTICLE', 'COST (£) CHARGED TO WELLCOME (INC VAT WHEN CHARGED)': 'COST'})\n",
    "\n",
    "#Change JOURNAL and PUBLISHER data to first letter capital and upper case\n",
    "df['JOURNAL']= df['JOURNAL'].str.title()\n",
    "df['PUBLISHER']= df['PUBLISHER'].str.title()\n",
    "\n",
    "#Strip the leading and tailing spaces\n",
    "df['JOURNAL'] = df['JOURNAL'].str.strip()\n",
    "df['PUBLISHER'] = df['PUBLISHER'].str.strip()\n",
    "\n",
    "#Replace & sign with 'And' text\n",
    "df['JOURNAL']=df.JOURNAL.replace({\"&\":'And'},regex=True)\n",
    "df['PUBLISHER']=df.PUBLISHER.replace({\"&\":'And'},regex=True)\n",
    "\n",
    "\n",
    "#Drop NaN values from non-numeric columns\n",
    "df=df.dropna(subset=['PID','PUBLISHER', 'JOURNAL', 'ARTICLE','COST'])\n",
    "\n",
    "\n",
    "df.head()"
   ]
  },
  {
   "cell_type": "code",
   "execution_count": 4,
   "metadata": {},
   "outputs": [],
   "source": [
    "\n",
    "df.loc[df['JOURNAL'].str.contains(\"Plos\"),'JOURNAL']=\"Plos\""
   ]
  },
  {
   "cell_type": "code",
   "execution_count": 5,
   "metadata": {},
   "outputs": [
    {
     "data": {
      "text/html": [
       "<div>\n",
       "<style scoped>\n",
       "    .dataframe tbody tr th:only-of-type {\n",
       "        vertical-align: middle;\n",
       "    }\n",
       "\n",
       "    .dataframe tbody tr th {\n",
       "        vertical-align: top;\n",
       "    }\n",
       "\n",
       "    .dataframe thead th {\n",
       "        text-align: right;\n",
       "    }\n",
       "</style>\n",
       "<table border=\"1\" class=\"dataframe\">\n",
       "  <thead>\n",
       "    <tr style=\"text-align: right;\">\n",
       "      <th></th>\n",
       "      <th>JOURNAL</th>\n",
       "      <th>count</th>\n",
       "    </tr>\n",
       "  </thead>\n",
       "  <tbody>\n",
       "    <tr>\n",
       "      <th>0</th>\n",
       "      <td>Plos</td>\n",
       "      <td>247</td>\n",
       "    </tr>\n",
       "    <tr>\n",
       "      <th>1</th>\n",
       "      <td>Journal Of Biological Chemistry</td>\n",
       "      <td>48</td>\n",
       "    </tr>\n",
       "    <tr>\n",
       "      <th>2</th>\n",
       "      <td>Nucleic Acids Research</td>\n",
       "      <td>21</td>\n",
       "    </tr>\n",
       "    <tr>\n",
       "      <th>3</th>\n",
       "      <td>Proceedings Of The National Academy Of Sciences</td>\n",
       "      <td>20</td>\n",
       "    </tr>\n",
       "    <tr>\n",
       "      <th>4</th>\n",
       "      <td>Human Molecular Genetics</td>\n",
       "      <td>15</td>\n",
       "    </tr>\n",
       "  </tbody>\n",
       "</table>\n",
       "</div>"
      ],
      "text/plain": [
       "                                           JOURNAL  count\n",
       "0                                             Plos    247\n",
       "1                  Journal Of Biological Chemistry     48\n",
       "2                           Nucleic Acids Research     21\n",
       "3  Proceedings Of The National Academy Of Sciences     20\n",
       "4                         Human Molecular Genetics     15"
      ]
     },
     "execution_count": 5,
     "metadata": {},
     "output_type": "execute_result"
    }
   ],
   "source": [
    "#five most common journals and the total articles for each\n",
    "df1 = df['JOURNAL'].value_counts().reset_index()\n",
    "df1.columns = ['JOURNAL', 'count']\n",
    "df1.head()"
   ]
  },
  {
   "cell_type": "code",
   "execution_count": 6,
   "metadata": {},
   "outputs": [],
   "source": [
    "df['COST'] = df.loc[df['COST'].astype(str).str.contains('$'),'COST'].replace('$','')\n",
    "df['COST'] = df.loc[df['COST'].str.contains(\"£\"),'COST'].str.replace('£','').astype(float)"
   ]
  },
  {
   "cell_type": "code",
   "execution_count": 12,
   "metadata": {},
   "outputs": [
    {
     "data": {
      "text/plain": [
       "1    2381.04\n",
       "2     642.56\n",
       "3     669.64\n",
       "4     685.88\n",
       "5    2392.20\n",
       "Name: COST, dtype: float64"
      ]
     },
     "execution_count": 12,
     "metadata": {},
     "output_type": "execute_result"
    }
   ],
   "source": [
    "df.COST.head()"
   ]
  },
  {
   "cell_type": "code",
   "execution_count": 8,
   "metadata": {},
   "outputs": [],
   "source": [
    "#Removing Anomalies which is greater than 50000. Usual data not exceeding 10000\n",
    "df=df[(df['COST'] < 50000)]"
   ]
  },
  {
   "cell_type": "code",
   "execution_count": 13,
   "metadata": {},
   "outputs": [
    {
     "data": {
      "text/plain": [
       "JOURNAL\n",
       "Public Service Review    6000.00\n",
       "The Lancet Neurology     5760.00\n",
       "The Lancet               4320.00\n",
       "Curr Biol.               4151.77\n",
       "Cell Journal             4041.05\n",
       "Name: COST, dtype: float64"
      ]
     },
     "execution_count": 13,
     "metadata": {},
     "output_type": "execute_result"
    }
   ],
   "source": [
    "#calculate meadian cost per article for each journal\n",
    "df.groupby('JOURNAL')['COST'].median().sort_values(ascending=False).head()"
   ]
  },
  {
   "cell_type": "code",
   "execution_count": 14,
   "metadata": {},
   "outputs": [
    {
     "data": {
      "text/plain": [
       "JOURNAL\n",
       "Public Service Review    6000.00\n",
       "The Lancet Neurology     5760.00\n",
       "The Lancet               4320.00\n",
       "Curr Biol.               4151.77\n",
       "Cell Journal             4041.05\n",
       "Name: COST, dtype: float64"
      ]
     },
     "execution_count": 14,
     "metadata": {},
     "output_type": "execute_result"
    }
   ],
   "source": [
    "##calculate mean cost per article for each journal\n",
    "df.groupby('JOURNAL')['COST'].mean().sort_values(ascending=False).head()"
   ]
  },
  {
   "cell_type": "code",
   "execution_count": 15,
   "metadata": {},
   "outputs": [
    {
     "data": {
      "text/plain": [
       "JOURNAL\n",
       "Gastroenterology    1407.085926\n",
       "Public Health       1369.828470\n",
       "Neuron              1357.518642\n",
       "Cell                1271.396468\n",
       "Bmj                 1172.228647\n",
       "Name: COST, dtype: float64"
      ]
     },
     "execution_count": 15,
     "metadata": {},
     "output_type": "execute_result"
    }
   ],
   "source": [
    "##calculate standard deviation cost per article for each journal\n",
    "df.groupby('JOURNAL')['COST'].std().sort_values(ascending=False).head()"
   ]
  },
  {
   "cell_type": "markdown",
   "metadata": {},
   "source": [
    "- End Of Task -"
   ]
  },
  {
   "cell_type": "code",
   "execution_count": null,
   "metadata": {},
   "outputs": [],
   "source": []
  }
 ],
 "metadata": {
  "kernelspec": {
   "display_name": "Python 3",
   "language": "python",
   "name": "python3"
  },
  "language_info": {
   "codemirror_mode": {
    "name": "ipython",
    "version": 3
   },
   "file_extension": ".py",
   "mimetype": "text/x-python",
   "name": "python",
   "nbconvert_exporter": "python",
   "pygments_lexer": "ipython3",
   "version": "3.7.3"
  }
 },
 "nbformat": 4,
 "nbformat_minor": 2
}
