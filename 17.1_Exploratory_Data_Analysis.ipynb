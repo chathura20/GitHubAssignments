{
 "cells": [
  {
   "cell_type": "markdown",
   "metadata": {},
   "source": [
    "### What is the goal of EDA (exploratory data analysis)?"
   ]
  },
  {
   "cell_type": "markdown",
   "metadata": {},
   "source": [
    "Exploratory data analysis (EDA) is a term for certain kinds of initial analysis and findings done with data sets.\n",
    "This involves cleaning the data, treating outliers, selecting useful features, and continuously reexamining the data."
   ]
  },
  {
   "cell_type": "markdown",
   "metadata": {},
   "source": [
    "### Suppose that you are given a dataset of customer product reviews for an e-commerce company. Each review is scored as a Likert-style survey item where 1 indicates a negative sentiment about the product and a 5 is positive. These reviews are collected on the company's website. a. What problems do you expect to find in the raw data? b. If your task is to build features that give information about customer sentiments, how would you approach this task and what kind of methods would you apply to accomplish it? c. Try to identify some potentially useful features that you might derive from the raw data. How would you derive them and how would you assess the usefulness of those features?"
   ]
  },
  {
   "cell_type": "markdown",
   "metadata": {},
   "source": [
    "a. What problems do you expect to find in the raw data?"
   ]
  },
  {
   "cell_type": "markdown",
   "metadata": {},
   "source": [
    "Numerous challenges may appear in an Likert-style survey. For example, a format for entering data may not have been established, leading to various forms of responses. If the data was not entered as numeric values from 1 to 5, we may have to identify key words that correlate to each sentiment score. In addition, there could also be symbols, spacing issues, and missing values."
   ]
  },
  {
   "cell_type": "markdown",
   "metadata": {},
   "source": [
    "b. If your task is to build features that give information about customer sentiments, how would you approach this task and what kind of methods would you apply to accomplish it?"
   ]
  },
  {
   "cell_type": "markdown",
   "metadata": {},
   "source": [
    "First, I would open the dataset in Excel and skim through a 100 rows to identity common trends of sentiment scores. Next, I would attempt to establish a common format by converting all inputs as strings. If there are numeric values, I would convert those to the corresponding sentiment word. With the trends that were identified, I would also implement it in this step. To check my progress, I would group the data by sentiment scores and check for scores that occurred only once. If the number of scores that occurred only once decreases after each format conversion, I would deem this as a success."
   ]
  },
  {
   "cell_type": "markdown",
   "metadata": {},
   "source": [
    "c. Try to identify some potentially useful features that you might derive from the raw data. How would you derive them and how would you assess the usefulness of those features?"
   ]
  },
  {
   "cell_type": "markdown",
   "metadata": {},
   "source": [
    "In order to identify potentially useful features from raw data, it would need to be processed. I might consider running the describe function to see how many unique outcomes there are. As previously mentioned, I would also group by sentiment score to see what are the most frequently occurring data points. Then, I would compare to see if there are any similarities between sentiment scores with high and low occurrence."
   ]
  },
  {
   "cell_type": "code",
   "execution_count": null,
   "metadata": {},
   "outputs": [],
   "source": []
  }
 ],
 "metadata": {
  "kernelspec": {
   "display_name": "Python 3",
   "language": "python",
   "name": "python3"
  },
  "language_info": {
   "codemirror_mode": {
    "name": "ipython",
    "version": 3
   },
   "file_extension": ".py",
   "mimetype": "text/x-python",
   "name": "python",
   "nbconvert_exporter": "python",
   "pygments_lexer": "ipython3",
   "version": "3.7.3"
  }
 },
 "nbformat": 4,
 "nbformat_minor": 2
}
