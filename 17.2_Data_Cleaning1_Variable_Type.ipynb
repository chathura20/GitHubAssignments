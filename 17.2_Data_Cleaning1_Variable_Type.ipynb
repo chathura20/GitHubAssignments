{
 "cells": [
  {
   "cell_type": "markdown",
   "metadata": {},
   "source": [
    "1. Consider the advantages and disadvantages of treating the Rank variable as categorical."
   ]
  },
  {
   "cell_type": "markdown",
   "metadata": {},
   "source": [
    "Treating rank variables as categorical enables us to reduce the number of datapoints for the viewer to digest. For example, if the rank ranges from 1 to 1,000, it may be overwhelming to describe each rank. By grouping the ranks into categories, such as Tier 1 ranging from No. 1 to No. 499 and Teir 2 as the remaining ranks, we would be able to provide characteristics of each group with less \"data noise\". On the other hand, we would lose information about each datapoint in the process. As a categorical variable, we would not be able to measure rank in terms of its distance quality."
   ]
  },
  {
   "cell_type": "markdown",
   "metadata": {},
   "source": [
    "2. What are the types of the following variables?\n"
   ]
  },
  {
   "cell_type": "markdown",
   "metadata": {},
   "source": [
    "\n",
    "Age: It is a continuous ratio variable, however, it can be grouped as ordinal categorical variable.\n",
    "\n",
    "Salary: It is a continuous ratio variable. Like age, it can also be grouped as ordinal categorical variable.\n",
    "\n",
    "Revenue: Continuous ratio variable\n",
    "\n",
    "Customer type: Nominal categorical variable\n",
    "\n",
    "Stock price: Continuous ratio variable"
   ]
  },
  {
   "cell_type": "code",
   "execution_count": null,
   "metadata": {},
   "outputs": [],
   "source": []
  }
 ],
 "metadata": {
  "kernelspec": {
   "display_name": "Python 3",
   "language": "python",
   "name": "python3"
  },
  "language_info": {
   "codemirror_mode": {
    "name": "ipython",
    "version": 3
   },
   "file_extension": ".py",
   "mimetype": "text/x-python",
   "name": "python",
   "nbconvert_exporter": "python",
   "pygments_lexer": "ipython3",
   "version": "3.7.3"
  }
 },
 "nbformat": 4,
 "nbformat_minor": 2
}
