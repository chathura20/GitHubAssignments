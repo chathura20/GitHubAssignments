{
  "nbformat": 4,
  "nbformat_minor": 0,
  "metadata": {
    "colab": {
      "name": "20.3_Tuning_KNN.ipynb",
      "provenance": []
    },
    "kernelspec": {
      "name": "python3",
      "display_name": "Python 3"
    }
  },
  "cells": [
    {
      "cell_type": "markdown",
      "metadata": {
        "id": "JG_7oIjni8IY",
        "colab_type": "text"
      },
      "source": [
        "DRILL:\n",
        "\n",
        "Let's say we work at a credit card company and we're trying to figure out if people are going to pay their bills on time. We have everyone's purchases, split into four main categories: groceries, dining out, utilities, and entertainment. What are some ways you might use KNN to create this model? What aspects of KNN would be useful?\n",
        "\n",
        "To reduce the dimensionality of the model, we can start by combining some features. For example, we could group groceries and utilities as necessities, and dining out and entertainment as leisure. The class would be to predict if bills will be paid on time or not. We could also tune KNN model by normalizing the features. Normalization is a way of taking measures and making them comparable. One way we can achieve this is to rescale all variables so its range is generally between -1 and 1. If the data has a linear relationship, then a scale from 0 to 1 would be more suitable."
      ]
    }
  ]
}