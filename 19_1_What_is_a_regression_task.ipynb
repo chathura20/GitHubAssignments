{
  "nbformat": 4,
  "nbformat_minor": 0,
  "metadata": {
    "colab": {
      "name": "19.1_What is a regression task.ipynb",
      "provenance": []
    },
    "kernelspec": {
      "name": "python3",
      "display_name": "Python 3"
    }
  },
  "cells": [
    {
      "cell_type": "markdown",
      "metadata": {
        "id": "LK5YKasKOqVG",
        "colab_type": "text"
      },
      "source": [
        "## Assignment\n"
      ]
    },
    {
      "cell_type": "markdown",
      "metadata": {
        "id": "vlaHFLTkOwtF",
        "colab_type": "text"
      },
      "source": [
        "1. Let's assume that you have World Bank data on financial, economic and social indicators for several countries. You want to measure the factors that affect the level of development in these countries. To this end, you decide to use per capita income as a proxy for the development level, which is defined as the national income divided by the population. You want to use some features in your dataset to predict per capita income. Is this task a classification or a regression task? Why?"
      ]
    },
    {
      "cell_type": "markdown",
      "metadata": {
        "id": "SQ8C5eLdfVAD",
        "colab_type": "text"
      },
      "source": [
        "Since per capita income is a continous variable with infinite values, a regression model would be suitable for this situation."
      ]
    },
    {
      "cell_type": "markdown",
      "metadata": {
        "id": "tSHNkhfqftwh",
        "colab_type": "text"
      },
      "source": [
        "2.Which of the following arguments are false and why?"
      ]
    },
    {
      "cell_type": "markdown",
      "metadata": {
        "id": "ouEEj9-1fuiH",
        "colab_type": "text"
      },
      "source": [
        "OLS is a special type of linear regression models\n",
        "\n",
        "* Linear regression uses the Ordinary Least Squares (OLS) algorithm to optimize the best fit line. OLS tries to minimize the sum of the squared distances between each point and the line, and it chooses the line that minimizes this sum. This minimization is the optimization that the linear regression method does."
      ]
    },
    {
      "cell_type": "markdown",
      "metadata": {
        "id": "mB9nZf68lGbd",
        "colab_type": "text"
      },
      "source": [
        "Regression models become useless if they don’t meet the assumptions of linear regression.\n",
        "\n",
        "\n",
        "*   Linear regression assumes six conditions:\n",
        "\n",
        "\n",
        "\n",
        "The relationship between feature(s) and target(s) is linear.\n",
        "\n",
        "\n",
        "The errors of the model should be equal to zero on average.\n",
        "The model’s errors are consistently distributed, which is known as heteroscedasticity.\n",
        "Features are at most only weakly correlated. Put differently there is not strong multicollinearity.\n",
        "The model’s errors should be uncorrelated with each other.\n",
        "The features and model errors are independent of one another.\n",
        "\n",
        "\n",
        "\n",
        "\n",
        "\n",
        "\n",
        "\n"
      ]
    },
    {
      "cell_type": "markdown",
      "metadata": {
        "id": "-lIjmbxvlqIL",
        "colab_type": "text"
      },
      "source": [
        "There are other approaches one can take to use linear regression even when the model doesn’t meet these conditions.\n",
        "Estimation and prediction are the same thing in the context of linear regression models.\n",
        "Estimation is finding the best fit line for the data during the model training phase while prediction is coming up with outcome values for the observations that have not been previously observed.\n",
        "Linear regression is only one kind of regression model. Regression problems can also be solved with other kind of models like Support Vector Machines or Random Forests.\n",
        "This statement is true."
      ]
    },
    {
      "cell_type": "markdown",
      "metadata": {
        "id": "PgTniS7jlwVM",
        "colab_type": "text"
      },
      "source": [
        "3. Assume that your project manager wants you to discover which free services your company offers make your customers buy more of your paid services. Formulate this task as a regression problem and write down the potential outcome and features that you’d like to work on.\n",
        " "
      ]
    },
    {
      "cell_type": "markdown",
      "metadata": {
        "id": "P__Lw30LmHBf",
        "colab_type": "text"
      },
      "source": [
        "totalexpenditure=α+β1Xdummyofusingfreeservice1+β2Xdummyofusingfreeservice2"
      ]
    },
    {
      "cell_type": "code",
      "metadata": {
        "id": "L0Wd49rHmIn-",
        "colab_type": "code",
        "colab": {}
      },
      "source": [
        ""
      ],
      "execution_count": 0,
      "outputs": []
    }
  ]
}