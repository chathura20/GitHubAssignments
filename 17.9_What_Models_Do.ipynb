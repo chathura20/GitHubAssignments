{
 "cells": [
  {
   "cell_type": "markdown",
   "metadata": {},
   "source": [
    "# Assignment"
   ]
  },
  {
   "cell_type": "markdown",
   "metadata": {},
   "source": [
    "To complete this assignment, submit a link to a Jupyter notebook containing your solutions to the following tasks:"
   ]
  },
  {
   "cell_type": "markdown",
   "metadata": {},
   "source": [
    "#### 1.Try to model the result of a coin toss. In your model, include any features that you think important in explaining the result. Discuss with your mentor about the pros and cons of adding too many features into your model.\n"
   ]
  },
  {
   "cell_type": "markdown",
   "metadata": {},
   "source": [
    "\n",
    "Assuming that the proability for both outcomes are equal, we may include the following featutres in a coin toss model:\n",
    "\n",
    "    \n",
    "The position of the coin being held before the toss. \n",
    "\n",
    "The force applied to the coin.\n",
    "\n",
    "The weight of the coin.\n",
    "\n",
    "The horizontal distance between the place the coin is tossed and the place it should fall into.\n",
    "\n",
    "The frictions of the hand skin and the air.\n",
    "\n",
    "Adding a numerous amount of features would require more experimentation to collect all the data. On the other hand, reducing the amount of features means lossing a piece of information."
   ]
  },
  {
   "cell_type": "markdown",
   "metadata": {},
   "source": [
    "#### 2. If you ever used Netflix, you should already have realized that it provides some recommendations for you to watch. In data science, this is an example of the so-called recommendations systems. Read this nontechnical blog post of Netflix about how they model their recommendations systems. Then, derive the features they use in their recommendations engines and discuss what else can be incorporated into this model."
   ]
  },
  {
   "cell_type": "markdown",
   "metadata": {},
   "source": [
    "\n",
    "According to the article, Netflix feed the following information to its recommendation systems:\n",
    "\n",
    "viewing history \n",
    "past rated titles by user\n",
    "\n",
    "other members with similar tastes and preferences on Netflix service\n",
    "\n",
    "information about the titles\n",
    "the time of streaming\n",
    "the devices being watched on\n",
    "lengthen of stream session\n",
    "\n",
    "Additional features may include:\n",
    "    \n",
    "localization information to share similar taste\n",
    "actors/actresses who are featuring in the movie"
   ]
  },
  {
   "cell_type": "code",
   "execution_count": null,
   "metadata": {},
   "outputs": [],
   "source": []
  }
 ],
 "metadata": {
  "kernelspec": {
   "display_name": "Python 3",
   "language": "python",
   "name": "python3"
  },
  "language_info": {
   "codemirror_mode": {
    "name": "ipython",
    "version": 3
   },
   "file_extension": ".py",
   "mimetype": "text/x-python",
   "name": "python",
   "nbconvert_exporter": "python",
   "pygments_lexer": "ipython3",
   "version": "3.7.3"
  }
 },
 "nbformat": 4,
 "nbformat_minor": 2
}
