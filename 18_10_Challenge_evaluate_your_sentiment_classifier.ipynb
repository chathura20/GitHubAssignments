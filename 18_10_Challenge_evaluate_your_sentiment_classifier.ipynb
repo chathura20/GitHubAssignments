{
  "nbformat": 4,
  "nbformat_minor": 0,
  "metadata": {
    "colab": {
      "name": "18.10_Challenge: evaluate your sentiment classifier.ipynb",
      "provenance": []
    },
    "kernelspec": {
      "name": "python3",
      "display_name": "Python 3"
    }
  },
  "cells": [
    {
      "cell_type": "markdown",
      "metadata": {
        "id": "w5wfJJpRo6VU",
        "colab_type": "text"
      },
      "source": [
        "## Naive Bayes Classifer: Evaluate Analysis"
      ]
    },
    {
      "cell_type": "markdown",
      "metadata": {
        "id": "o_pSGZmEpBez",
        "colab_type": "text"
      },
      "source": [
        "For this challege, we will be building a Navie Bayes classification model to classify whether feedback left on a website is either positive or negative. Our start model will be using data from a Yelp Review dataset."
      ]
    },
    {
      "cell_type": "markdown",
      "metadata": {
        "id": "zroxQvqBpHPj",
        "colab_type": "text"
      },
      "source": [
        "##Overview of Yelp Review"
      ]
    },
    {
      "cell_type": "markdown",
      "metadata": {
        "id": "Uf2P5KpdpLmf",
        "colab_type": "text"
      },
      "source": [
        "First, we will explore the data and then select some features to run our inital model."
      ]
    },
    {
      "cell_type": "code",
      "metadata": {
        "id": "UhSVaZ82pMhn",
        "colab_type": "code",
        "colab": {}
      },
      "source": [
        "#Numpy and pandas\n",
        "import numpy as np\n",
        "import pandas as pd\n",
        "\n",
        "#Visualization\n",
        "import matplotlib.pyplot as plt\n",
        "%matplotlib inline\n",
        "import seaborn as sns\n",
        "\n",
        "#NLP tools\n",
        "import nltk\n",
        "from nltk.corpus import stopwords \n",
        "\n",
        "#Modeling\n",
        "import sklearn\n",
        "from sklearn.naive_bayes import BernoulliNB\n",
        "\n",
        "#Bag of words model\n",
        "from sklearn.feature_extraction.text import CountVectorizer\n",
        "from sklearn.feature_extraction.text import TfidfTransformer\n",
        "\n",
        "#Cross-validation\n",
        "from sklearn.model_selection import train_test_split\n",
        "from sklearn.metrics import classification_report\n",
        "from sklearn.metrics import confusion_matrix\n",
        "from sklearn.pipeline import Pipeline\n",
        "from sklearn.model_selection import cross_val_score\n",
        "from sklearn.model_selection import KFold"
      ],
      "execution_count": 0,
      "outputs": []
    },
    {
      "cell_type": "code",
      "metadata": {
        "id": "51qlDho3pShZ",
        "colab_type": "code",
        "colab": {
          "resources": {
            "http://localhost:8080/nbextensions/google.colab/files.js": {
              "data": "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",
              "ok": true,
              "headers": [
                [
                  "content-type",
                  "application/javascript"
                ]
              ],
              "status": 200,
              "status_text": ""
            }
          },
          "base_uri": "https://localhost:8080/",
          "height": 74
        },
        "outputId": "945771fd-ac44-4a2f-affe-d8a03224bdb8"
      },
      "source": [
        "from google.colab import files\n",
        "uploaded = files.upload()"
      ],
      "execution_count": 3,
      "outputs": [
        {
          "output_type": "display_data",
          "data": {
            "text/html": [
              "\n",
              "     <input type=\"file\" id=\"files-91ea01df-942d-4dc3-aba0-410a706dc1ad\" name=\"files[]\" multiple disabled />\n",
              "     <output id=\"result-91ea01df-942d-4dc3-aba0-410a706dc1ad\">\n",
              "      Upload widget is only available when the cell has been executed in the\n",
              "      current browser session. Please rerun this cell to enable.\n",
              "      </output>\n",
              "      <script src=\"/nbextensions/google.colab/files.js\"></script> "
            ],
            "text/plain": [
              "<IPython.core.display.HTML object>"
            ]
          },
          "metadata": {
            "tags": []
          }
        },
        {
          "output_type": "stream",
          "text": [
            "Saving yelp_labelled.txt to yelp_labelled.txt\n"
          ],
          "name": "stdout"
        }
      ]
    },
    {
      "cell_type": "code",
      "metadata": {
        "id": "B9v-6UDkpWXh",
        "colab_type": "code",
        "colab": {
          "base_uri": "https://localhost:8080/",
          "height": 195
        },
        "outputId": "2ff12e5b-77d1-4c22-caac-8aa3642639bc"
      },
      "source": [
        "import io\n",
        "yelp_raw = pd.read_csv(io.BytesIO(uploaded['yelp_labelled.txt']), error_bad_lines=False ,  delimiter='\\t', header=None)\n",
        "yelp_raw.columns = ['review','sentiment']\n",
        "yelp_raw.head()"
      ],
      "execution_count": 4,
      "outputs": [
        {
          "output_type": "execute_result",
          "data": {
            "text/html": [
              "<div>\n",
              "<style scoped>\n",
              "    .dataframe tbody tr th:only-of-type {\n",
              "        vertical-align: middle;\n",
              "    }\n",
              "\n",
              "    .dataframe tbody tr th {\n",
              "        vertical-align: top;\n",
              "    }\n",
              "\n",
              "    .dataframe thead th {\n",
              "        text-align: right;\n",
              "    }\n",
              "</style>\n",
              "<table border=\"1\" class=\"dataframe\">\n",
              "  <thead>\n",
              "    <tr style=\"text-align: right;\">\n",
              "      <th></th>\n",
              "      <th>review</th>\n",
              "      <th>sentiment</th>\n",
              "    </tr>\n",
              "  </thead>\n",
              "  <tbody>\n",
              "    <tr>\n",
              "      <th>0</th>\n",
              "      <td>Wow... Loved this place.</td>\n",
              "      <td>1</td>\n",
              "    </tr>\n",
              "    <tr>\n",
              "      <th>1</th>\n",
              "      <td>Crust is not good.</td>\n",
              "      <td>0</td>\n",
              "    </tr>\n",
              "    <tr>\n",
              "      <th>2</th>\n",
              "      <td>Not tasty and the texture was just nasty.</td>\n",
              "      <td>0</td>\n",
              "    </tr>\n",
              "    <tr>\n",
              "      <th>3</th>\n",
              "      <td>Stopped by during the late May bank holiday of...</td>\n",
              "      <td>1</td>\n",
              "    </tr>\n",
              "    <tr>\n",
              "      <th>4</th>\n",
              "      <td>The selection on the menu was great and so wer...</td>\n",
              "      <td>1</td>\n",
              "    </tr>\n",
              "  </tbody>\n",
              "</table>\n",
              "</div>"
            ],
            "text/plain": [
              "                                              review  sentiment\n",
              "0                           Wow... Loved this place.          1\n",
              "1                                 Crust is not good.          0\n",
              "2          Not tasty and the texture was just nasty.          0\n",
              "3  Stopped by during the late May bank holiday of...          1\n",
              "4  The selection on the menu was great and so wer...          1"
            ]
          },
          "metadata": {
            "tags": []
          },
          "execution_count": 4
        }
      ]
    },
    {
      "cell_type": "code",
      "metadata": {
        "id": "WldO78H2peWi",
        "colab_type": "code",
        "colab": {
          "base_uri": "https://localhost:8080/",
          "height": 134
        },
        "outputId": "bcbd62ba-957a-411a-c767-d409f060d2b0"
      },
      "source": [
        "\n",
        "# Check info \n",
        "\n",
        "yelp_raw.info()"
      ],
      "execution_count": 5,
      "outputs": [
        {
          "output_type": "stream",
          "text": [
            "<class 'pandas.core.frame.DataFrame'>\n",
            "RangeIndex: 1000 entries, 0 to 999\n",
            "Data columns (total 2 columns):\n",
            "review       1000 non-null object\n",
            "sentiment    1000 non-null int64\n",
            "dtypes: int64(1), object(1)\n",
            "memory usage: 15.8+ KB\n"
          ],
          "name": "stdout"
        }
      ]
    },
    {
      "cell_type": "code",
      "metadata": {
        "id": "u-_HnKU3phKB",
        "colab_type": "code",
        "colab": {
          "base_uri": "https://localhost:8080/",
          "height": 67
        },
        "outputId": "2dc01944-df7a-45bd-c7f6-413ebe032a32"
      },
      "source": [
        "\n",
        "# Check how many datapoints per column \n",
        "\n",
        "yelp_raw['sentiment'].value_counts()"
      ],
      "execution_count": 6,
      "outputs": [
        {
          "output_type": "execute_result",
          "data": {
            "text/plain": [
              "1    500\n",
              "0    500\n",
              "Name: sentiment, dtype: int64"
            ]
          },
          "metadata": {
            "tags": []
          },
          "execution_count": 6
        }
      ]
    },
    {
      "cell_type": "code",
      "metadata": {
        "id": "tnp_rlfYpi8t",
        "colab_type": "code",
        "colab": {}
      },
      "source": [
        ""
      ],
      "execution_count": 0,
      "outputs": []
    },
    {
      "cell_type": "markdown",
      "metadata": {
        "id": "ufVTRIP8pldr",
        "colab_type": "text"
      },
      "source": [
        "This dataset contains 1,000 rows and two columns, review text and sentiment scores (1 = positive, 0 = negative). The sentiments scores are split even with 500 obersevations in each class"
      ]
    },
    {
      "cell_type": "markdown",
      "metadata": {
        "id": "AsOurWIWpp28",
        "colab_type": "text"
      },
      "source": [
        "###Iteration 1\n"
      ]
    },
    {
      "cell_type": "markdown",
      "metadata": {
        "id": "IQReCn-Ep0P8",
        "colab_type": "text"
      },
      "source": [
        "Next, we will construct a set of keywords for negative sentiment."
      ]
    },
    {
      "cell_type": "code",
      "metadata": {
        "id": "fOgcCFfCp7Ea",
        "colab_type": "code",
        "colab": {
          "base_uri": "https://localhost:8080/",
          "height": 195
        },
        "outputId": "a88d4179-9434-40f8-ffe7-83eda9d7297c"
      },
      "source": [
        "# Taking a look at negative reviews\n",
        "\n",
        "neg_reviews = yelp_raw.loc[yelp_raw['sentiment']== 0]\n",
        "neg_reviews.head()"
      ],
      "execution_count": 7,
      "outputs": [
        {
          "output_type": "execute_result",
          "data": {
            "text/html": [
              "<div>\n",
              "<style scoped>\n",
              "    .dataframe tbody tr th:only-of-type {\n",
              "        vertical-align: middle;\n",
              "    }\n",
              "\n",
              "    .dataframe tbody tr th {\n",
              "        vertical-align: top;\n",
              "    }\n",
              "\n",
              "    .dataframe thead th {\n",
              "        text-align: right;\n",
              "    }\n",
              "</style>\n",
              "<table border=\"1\" class=\"dataframe\">\n",
              "  <thead>\n",
              "    <tr style=\"text-align: right;\">\n",
              "      <th></th>\n",
              "      <th>review</th>\n",
              "      <th>sentiment</th>\n",
              "    </tr>\n",
              "  </thead>\n",
              "  <tbody>\n",
              "    <tr>\n",
              "      <th>1</th>\n",
              "      <td>Crust is not good.</td>\n",
              "      <td>0</td>\n",
              "    </tr>\n",
              "    <tr>\n",
              "      <th>2</th>\n",
              "      <td>Not tasty and the texture was just nasty.</td>\n",
              "      <td>0</td>\n",
              "    </tr>\n",
              "    <tr>\n",
              "      <th>5</th>\n",
              "      <td>Now I am getting angry and I want my damn pho.</td>\n",
              "      <td>0</td>\n",
              "    </tr>\n",
              "    <tr>\n",
              "      <th>6</th>\n",
              "      <td>Honeslty it didn't taste THAT fresh.)</td>\n",
              "      <td>0</td>\n",
              "    </tr>\n",
              "    <tr>\n",
              "      <th>7</th>\n",
              "      <td>The potatoes were like rubber and you could te...</td>\n",
              "      <td>0</td>\n",
              "    </tr>\n",
              "  </tbody>\n",
              "</table>\n",
              "</div>"
            ],
            "text/plain": [
              "                                              review  sentiment\n",
              "1                                 Crust is not good.          0\n",
              "2          Not tasty and the texture was just nasty.          0\n",
              "5     Now I am getting angry and I want my damn pho.          0\n",
              "6              Honeslty it didn't taste THAT fresh.)          0\n",
              "7  The potatoes were like rubber and you could te...          0"
            ]
          },
          "metadata": {
            "tags": []
          },
          "execution_count": 7
        }
      ]
    },
    {
      "cell_type": "code",
      "metadata": {
        "id": "H1bTLM6Jp7mY",
        "colab_type": "code",
        "colab": {}
      },
      "source": [
        "# Create negative keywords \n",
        "\n",
        "neg_keywords = ['angry', 'slow', 'never', 'poor',\n",
        "                'bad', 'horrible', 'old', 'bland', 'overpriced',\n",
        "               'rude', 'terrible','wait','waste',\n",
        "                'never']\n",
        "\n",
        "for key in neg_keywords:\n",
        "    # Note that we add spaces around the key so that we're getting the word,\n",
        "    # not just pattern matching.\n",
        "    yelp_raw[str(key)] = yelp_raw.review.str.contains(\n",
        "        ' ' + str(key) + ' ',\n",
        "        case=False\n",
        "    )"
      ],
      "execution_count": 0,
      "outputs": []
    },
    {
      "cell_type": "markdown",
      "metadata": {
        "id": "mtWDZD3mqEG7",
        "colab_type": "text"
      },
      "source": [
        "Before we continue, one main assumption of Naive Bayes is that the variables fed into the model are independent of each other. Let's check to see how true that is by using a correlation maxtrix and a heatmap from seaborn."
      ]
    },
    {
      "cell_type": "code",
      "metadata": {
        "id": "IT1YY8Lap-Jk",
        "colab_type": "code",
        "colab": {
          "base_uri": "https://localhost:8080/",
          "height": 330
        },
        "outputId": "a2bf31fd-762a-42ef-c269-63d3f7f523b9"
      },
      "source": [
        "\n",
        "# Create heatmap \n",
        "\n",
        "sns.heatmap(yelp_raw.corr())"
      ],
      "execution_count": 10,
      "outputs": [
        {
          "output_type": "execute_result",
          "data": {
            "text/plain": [
              "<matplotlib.axes._subplots.AxesSubplot at 0x7fbc901e43c8>"
            ]
          },
          "metadata": {
            "tags": []
          },
          "execution_count": 10
        },
        {
          "output_type": "display_data",
          "data": {
            "image/png": "[encoded data removed]",
            "text/plain": [
              "<Figure size 432x288 with 2 Axes>"
            ]
          },
          "metadata": {
            "tags": []
          }
        }
      ]
    },
    {
      "cell_type": "markdown",
      "metadata": {
        "id": "4OQsFD6nqH5A",
        "colab_type": "text"
      },
      "source": [
        "Since most of the words are not strongly correlated to each other. We will continue by building out our training data with SKLearn. In this step, we will specify an outcome and input variable."
      ]
    },
    {
      "cell_type": "code",
      "metadata": {
        "id": "QASd1hIXqHBy",
        "colab_type": "code",
        "colab": {}
      },
      "source": [
        "\n",
        "data = yelp_raw[neg_keywords]\n",
        "target = yelp_raw['sentiment']"
      ],
      "execution_count": 0,
      "outputs": []
    },
    {
      "cell_type": "code",
      "metadata": {
        "id": "qno6YVCyqNVc",
        "colab_type": "code",
        "colab": {
          "base_uri": "https://localhost:8080/",
          "height": 34
        },
        "outputId": "fcfefa32-3b58-4ffd-edc9-377a6aac3755"
      },
      "source": [
        "\n",
        "# Our data is binary / boolean, so we're importing the Bernoulli classifier.\n",
        "from sklearn.naive_bayes import BernoulliNB\n",
        "\n",
        "# Instantiate our model and store it in a new variable.\n",
        "bnb = BernoulliNB()\n",
        "\n",
        "# Fit our model to the data.\n",
        "bnb.fit(data, target)\n",
        "\n",
        "# Classify, storing the result in a new variable.\n",
        "y_pred = bnb.predict(data)\n",
        "\n",
        "# Display our results.\n",
        "print(\"Number of mislabeled points out of a total {} points : {}\".format(\n",
        "    data.shape[0],\n",
        "    (target != y_pred).sum()\n",
        "))"
      ],
      "execution_count": 13,
      "outputs": [
        {
          "output_type": "stream",
          "text": [
            "Number of mislabeled points out of a total 1000 points : 441\n"
          ],
          "name": "stdout"
        }
      ]
    },
    {
      "cell_type": "markdown",
      "metadata": {
        "id": "vRLjfWTyqT4u",
        "colab_type": "text"
      },
      "source": [
        "With our initial model, we missed classified 44.1% of the data points."
      ]
    },
    {
      "cell_type": "markdown",
      "metadata": {
        "id": "FCQzKT4TqVKk",
        "colab_type": "text"
      },
      "source": [
        "To improve our model, let's calculate what kind of errors we're generating. First, we will use a confusion matrix to shows the count of each possible permutation of target and prediction. Then, use the information to calculate type 1 and type 2 errors. Type 1 errors are false positives where identify the review as negative, while it's not. On the other hand, type 2 errors are false negatives where we will failed to identify a negative review."
      ]
    },
    {
      "cell_type": "code",
      "metadata": {
        "id": "iD4J8IsJqP2H",
        "colab_type": "code",
        "colab": {
          "base_uri": "https://localhost:8080/",
          "height": 106
        },
        "outputId": "2ce57d9b-9929-4316-b9ba-48554ac4f365"
      },
      "source": [
        "\n",
        "# Generate confusion matrix\n",
        "\n",
        "confusion1 = confusion_matrix(target, y_pred)\n",
        "\n",
        "pd.DataFrame(\n",
        "    confusion1, \n",
        "    columns=[\"Negatives\", \"Positives\"],\n",
        "    index=[\"Negatives\", \"Positives\"])"
      ],
      "execution_count": 14,
      "outputs": [
        {
          "output_type": "execute_result",
          "data": {
            "text/html": [
              "<div>\n",
              "<style scoped>\n",
              "    .dataframe tbody tr th:only-of-type {\n",
              "        vertical-align: middle;\n",
              "    }\n",
              "\n",
              "    .dataframe tbody tr th {\n",
              "        vertical-align: top;\n",
              "    }\n",
              "\n",
              "    .dataframe thead th {\n",
              "        text-align: right;\n",
              "    }\n",
              "</style>\n",
              "<table border=\"1\" class=\"dataframe\">\n",
              "  <thead>\n",
              "    <tr style=\"text-align: right;\">\n",
              "      <th></th>\n",
              "      <th>Negatives</th>\n",
              "      <th>Positives</th>\n",
              "    </tr>\n",
              "  </thead>\n",
              "  <tbody>\n",
              "    <tr>\n",
              "      <th>Negatives</th>\n",
              "      <td>65</td>\n",
              "      <td>435</td>\n",
              "    </tr>\n",
              "    <tr>\n",
              "      <th>Positives</th>\n",
              "      <td>6</td>\n",
              "      <td>494</td>\n",
              "    </tr>\n",
              "  </tbody>\n",
              "</table>\n",
              "</div>"
            ],
            "text/plain": [
              "           Negatives  Positives\n",
              "Negatives         65        435\n",
              "Positives          6        494"
            ]
          },
          "metadata": {
            "tags": []
          },
          "execution_count": 14
        }
      ]
    },
    {
      "cell_type": "code",
      "metadata": {
        "id": "Jn57WCxDqhsS",
        "colab_type": "code",
        "colab": {
          "base_uri": "https://localhost:8080/",
          "height": 50
        },
        "outputId": "6a396860-a4b5-4ab7-c66d-b0a2f88ede16"
      },
      "source": [
        "\n",
        "# Calculate type 1 and type 2 error\n",
        "\n",
        "type1_error = confusion1[1][0]/(confusion1[1][0]+confusion1[1][1])*100\n",
        "print('Type 1 error: '+str(type1_error)+'%')\n",
        "\n",
        "type2_error = confusion1[0][1]/(confusion1[0][0]+confusion1[0][1])*100\n",
        "print('Type 2 error: '+str(type2_error)+'%')"
      ],
      "execution_count": 15,
      "outputs": [
        {
          "output_type": "stream",
          "text": [
            "Type 1 error: 1.2%\n",
            "Type 2 error: 87.0%\n"
          ],
          "name": "stdout"
        }
      ]
    },
    {
      "cell_type": "markdown",
      "metadata": {
        "id": "QVPJ76GNqmB1",
        "colab_type": "text"
      },
      "source": [
        "Our current model is sensitive in classifying positive reviews since we only missclassifed 1.2% of the reviews as positive. However, there is a high precentage of type 2 error which indicates our specifity method in identifying negative reviews is not efficent. We failed to identify 87% of the negative reviews as negative."
      ]
    },
    {
      "cell_type": "markdown",
      "metadata": {
        "id": "-EztB39dq2AD",
        "colab_type": "text"
      },
      "source": [
        "###Iteration 2 with tokenization"
      ]
    },
    {
      "cell_type": "markdown",
      "metadata": {
        "id": "H0mErtCaq6WT",
        "colab_type": "text"
      },
      "source": [
        "To improve our model, we will clean and tokenize the review by stripping spaces, casting lowercase, removing non-alphabetic characters and separating into words. Then, we will use Bag of Words to generate a matrix of the occurance of words in the Yelp reviews."
      ]
    },
    {
      "cell_type": "code",
      "metadata": {
        "id": "uJ9hlBPJqj_V",
        "colab_type": "code",
        "colab": {}
      },
      "source": [
        "\n",
        "# Basic function to clean the text\n",
        "def clean_text(text):\n",
        "    # Removing spaces and converting text into lowercase\n",
        "    return text.strip().lower().replace('[^a-zA-Z]', ' ')"
      ],
      "execution_count": 0,
      "outputs": []
    },
    {
      "cell_type": "code",
      "metadata": {
        "id": "01SAQ995rEYX",
        "colab_type": "code",
        "colab": {}
      },
      "source": [
        "\n",
        "# Create new data frame for cleaning\n",
        "\n",
        "yelp_clean = yelp_raw.loc[:,['review','sentiment']]\n",
        "yelp_clean['review'] = yelp_clean['review'].astype('str')\n",
        "\n",
        "yelp_clean['token'] = yelp_clean['review'].apply(lambda x: clean_text(x))"
      ],
      "execution_count": 0,
      "outputs": []
    },
    {
      "cell_type": "markdown",
      "metadata": {
        "id": "Xytd3oAerS2F",
        "colab_type": "text"
      },
      "source": [
        "Next, we will use Count Vectorizer to tokenize the review column by generating an array for each row and a column of a word. A boolean will indicate whether the word is present in the row or not."
      ]
    },
    {
      "cell_type": "code",
      "metadata": {
        "id": "IAIx9EgjrPT-",
        "colab_type": "code",
        "colab": {
          "base_uri": "https://localhost:8080/",
          "height": 34
        },
        "outputId": "f9379c55-39c5-424b-db9e-2ffa8563b7e8"
      },
      "source": [
        "\n",
        "#Use CountVectorizer to generate an array of unigram counts for each review\n",
        "\n",
        "vectorizer = CountVectorizer(stop_words=None, max_features=None)\n",
        "X = vectorizer.fit(yelp_clean['token'])\n",
        "X = vectorizer.transform(yelp_clean['token'])\n",
        "\n",
        "#Use term frequency - inverse document frequency transformation to weight more informative unigrams\n",
        "\n",
        "tfidf_transformer = TfidfTransformer().fit(X)\n",
        "X_tfidf = tfidf_transformer.transform(X)\n",
        "\n",
        "#Take a look at the shape of the array\n",
        "\n",
        "print(X_tfidf.shape)"
      ],
      "execution_count": 18,
      "outputs": [
        {
          "output_type": "stream",
          "text": [
            "(1000, 2035)\n"
          ],
          "name": "stdout"
        }
      ]
    },
    {
      "cell_type": "markdown",
      "metadata": {
        "id": "Y13-yUVurvlC",
        "colab_type": "text"
      },
      "source": [
        "There are 1,000 reviews and 2,034 unigrams in this array."
      ]
    },
    {
      "cell_type": "markdown",
      "metadata": {
        "id": "3h_es-Nmrz2t",
        "colab_type": "text"
      },
      "source": [
        "Now, we will create a second model by using bag of words instead of manually selecting list of negative keywords from the first model."
      ]
    },
    {
      "cell_type": "code",
      "metadata": {
        "id": "WSvpOUt0r3Rn",
        "colab_type": "code",
        "colab": {
          "base_uri": "https://localhost:8080/",
          "height": 34
        },
        "outputId": "6f9b4b6a-23f1-4b1a-eff3-af197a15843f"
      },
      "source": [
        "\n",
        "#Refit the model using tfidf in place of the manually constructed keywords list\n",
        "\n",
        "bnb.fit(X_tfidf, target)\n",
        "y_pred2 = bnb.predict(X_tfidf)\n",
        "\n",
        "#Read out the result\n",
        "\n",
        "print(\"Number of mislabeled points out of a total {} points : {}\".format(\n",
        "    data.shape[0],\n",
        "    (target != y_pred2).sum()\n",
        "))"
      ],
      "execution_count": 19,
      "outputs": [
        {
          "output_type": "stream",
          "text": [
            "Number of mislabeled points out of a total 1000 points : 55\n"
          ],
          "name": "stdout"
        }
      ]
    },
    {
      "cell_type": "markdown",
      "metadata": {
        "id": "8S1BbLiur_9Q",
        "colab_type": "text"
      },
      "source": [
        "This model correctly classified 94.5% of datapoints! This appears to be more accurate than our first model."
      ]
    },
    {
      "cell_type": "markdown",
      "metadata": {
        "id": "ln82pKQasCBf",
        "colab_type": "text"
      },
      "source": [
        "Let's use a confusion matrix to analyze our errors."
      ]
    },
    {
      "cell_type": "code",
      "metadata": {
        "id": "A1jKEVqkr9Yh",
        "colab_type": "code",
        "colab": {
          "base_uri": "https://localhost:8080/",
          "height": 84
        },
        "outputId": "0fcc07fc-0cbe-41f5-95ab-518cb65d43e9"
      },
      "source": [
        "#Evaluate confusion matrix \n",
        "\n",
        "confusion2 = confusion_matrix(target, y_pred2)\n",
        "print(confusion2)\n",
        "\n",
        "type1_error = confusion2[1][0]/(confusion2[1][0]+confusion2[1][1])*100\n",
        "print('Type 1 error: '+str(round(type1_error))+'%')\n",
        "\n",
        "type2_error = confusion2[0][1]/(confusion2[0][0]+confusion2[0][1])*100\n",
        "print('Type 2 error: '+str(type2_error)+'%')"
      ],
      "execution_count": 20,
      "outputs": [
        {
          "output_type": "stream",
          "text": [
            "[[474  26]\n",
            " [ 29 471]]\n",
            "Type 1 error: 6.0%\n",
            "Type 2 error: 5.2%\n"
          ],
          "name": "stdout"
        }
      ]
    },
    {
      "cell_type": "markdown",
      "metadata": {
        "id": "V5t4QTiQsIyS",
        "colab_type": "text"
      },
      "source": [
        "Here, we can see that type 1 error has increased to 6%. We misclassfied 29 out of 474 positive reviews. The type 2 error has drastically decreased from last time. It appears that this model outperformed the first model in properly identifying negative reviews since we only failed to identified 26 negative reviews."
      ]
    },
    {
      "cell_type": "markdown",
      "metadata": {
        "id": "AHxEAK_csLZw",
        "colab_type": "text"
      },
      "source": [
        "###Overfitting"
      ]
    },
    {
      "cell_type": "markdown",
      "metadata": {
        "id": "vddIRFXesRP4",
        "colab_type": "text"
      },
      "source": [
        "We built the bag of words based on the entire dataset which overfits the model. An overfitted model can start to catch random noise instead of describing the true underlying relationships. Let's try applying this process again with another dataset."
      ]
    },
    {
      "cell_type": "markdown",
      "metadata": {
        "id": "SulCReoPsUQy",
        "colab_type": "text"
      },
      "source": [
        "###Iteration 3 splitting Amazon dataset and tokenization\n"
      ]
    },
    {
      "cell_type": "markdown",
      "metadata": {
        "id": "PSTKnWZFsZ-m",
        "colab_type": "text"
      },
      "source": [
        "In this model, we will using the Amazon dataset to fit the model. We will clean the data, tokenize the dataset, and split the data into a training and testing set."
      ]
    },
    {
      "cell_type": "code",
      "metadata": {
        "id": "7dFW0W8fsFcZ",
        "colab_type": "code",
        "colab": {
          "resources": {
            "http://localhost:8080/nbextensions/google.colab/files.js": {
              "data": "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",
              "ok": true,
              "headers": [
                [
                  "content-type",
                  "application/javascript"
                ]
              ],
              "status": 200,
              "status_text": ""
            }
          },
          "base_uri": "https://localhost:8080/",
          "height": 74
        },
        "outputId": "9db7eb0b-c81e-45e1-9798-fe98c58d26b1"
      },
      "source": [
        "from google.colab import files\n",
        "uploaded = files.upload()"
      ],
      "execution_count": 22,
      "outputs": [
        {
          "output_type": "display_data",
          "data": {
            "text/html": [
              "\n",
              "     <input type=\"file\" id=\"files-7a68971b-9657-4b0e-9913-caef38c09fa0\" name=\"files[]\" multiple disabled />\n",
              "     <output id=\"result-7a68971b-9657-4b0e-9913-caef38c09fa0\">\n",
              "      Upload widget is only available when the cell has been executed in the\n",
              "      current browser session. Please rerun this cell to enable.\n",
              "      </output>\n",
              "      <script src=\"/nbextensions/google.colab/files.js\"></script> "
            ],
            "text/plain": [
              "<IPython.core.display.HTML object>"
            ]
          },
          "metadata": {
            "tags": []
          }
        },
        {
          "output_type": "stream",
          "text": [
            "Saving amazon_cells_labelled.txt to amazon_cells_labelled.txt\n"
          ],
          "name": "stdout"
        }
      ]
    },
    {
      "cell_type": "code",
      "metadata": {
        "id": "mKDBprmYsdGY",
        "colab_type": "code",
        "colab": {
          "base_uri": "https://localhost:8080/",
          "height": 195
        },
        "outputId": "36e9fb55-eefb-4bde-9ab7-9454a4e86674"
      },
      "source": [
        "import io\n",
        "amazon_raw = pd.read_csv(io.BytesIO(uploaded['amazon_cells_labelled.txt']), error_bad_lines=False ,  delimiter='\\t', header=None)\n",
        "amazon_raw.columns = ['review','sentiment']\n",
        "amazon_raw.head()"
      ],
      "execution_count": 25,
      "outputs": [
        {
          "output_type": "execute_result",
          "data": {
            "text/html": [
              "<div>\n",
              "<style scoped>\n",
              "    .dataframe tbody tr th:only-of-type {\n",
              "        vertical-align: middle;\n",
              "    }\n",
              "\n",
              "    .dataframe tbody tr th {\n",
              "        vertical-align: top;\n",
              "    }\n",
              "\n",
              "    .dataframe thead th {\n",
              "        text-align: right;\n",
              "    }\n",
              "</style>\n",
              "<table border=\"1\" class=\"dataframe\">\n",
              "  <thead>\n",
              "    <tr style=\"text-align: right;\">\n",
              "      <th></th>\n",
              "      <th>review</th>\n",
              "      <th>sentiment</th>\n",
              "    </tr>\n",
              "  </thead>\n",
              "  <tbody>\n",
              "    <tr>\n",
              "      <th>0</th>\n",
              "      <td>So there is no way for me to plug it in here i...</td>\n",
              "      <td>0</td>\n",
              "    </tr>\n",
              "    <tr>\n",
              "      <th>1</th>\n",
              "      <td>Good case, Excellent value.</td>\n",
              "      <td>1</td>\n",
              "    </tr>\n",
              "    <tr>\n",
              "      <th>2</th>\n",
              "      <td>Great for the jawbone.</td>\n",
              "      <td>1</td>\n",
              "    </tr>\n",
              "    <tr>\n",
              "      <th>3</th>\n",
              "      <td>Tied to charger for conversations lasting more...</td>\n",
              "      <td>0</td>\n",
              "    </tr>\n",
              "    <tr>\n",
              "      <th>4</th>\n",
              "      <td>The mic is great.</td>\n",
              "      <td>1</td>\n",
              "    </tr>\n",
              "  </tbody>\n",
              "</table>\n",
              "</div>"
            ],
            "text/plain": [
              "                                              review  sentiment\n",
              "0  So there is no way for me to plug it in here i...          0\n",
              "1                        Good case, Excellent value.          1\n",
              "2                             Great for the jawbone.          1\n",
              "3  Tied to charger for conversations lasting more...          0\n",
              "4                                  The mic is great.          1"
            ]
          },
          "metadata": {
            "tags": []
          },
          "execution_count": 25
        }
      ]
    },
    {
      "cell_type": "markdown",
      "metadata": {
        "id": "g78nKhWDsvvo",
        "colab_type": "text"
      },
      "source": [
        "\n",
        "The Amazon dataset appears to have the same content and shape as the Yelp dataset."
      ]
    },
    {
      "cell_type": "code",
      "metadata": {
        "id": "19gUzVRBss51",
        "colab_type": "code",
        "colab": {}
      },
      "source": [
        "\n",
        "# Clean data\n",
        "\n",
        "amazon_clean = amazon_raw.loc[:,['review','sentiment']]\n",
        "amazon_clean['review'] = amazon_clean['review'].astype('str')\n",
        "\n",
        "amazon_clean['token'] = amazon_clean['review'].apply(lambda x: clean_text(x))"
      ],
      "execution_count": 0,
      "outputs": []
    },
    {
      "cell_type": "code",
      "metadata": {
        "id": "vxBEiJRws0vy",
        "colab_type": "code",
        "colab": {}
      },
      "source": [
        "\n",
        "target_am = amazon_clean['sentiment']"
      ],
      "execution_count": 0,
      "outputs": []
    },
    {
      "cell_type": "code",
      "metadata": {
        "id": "mMZ3bX3LtDKC",
        "colab_type": "code",
        "colab": {}
      },
      "source": [
        "# Split data into training and testing set\n",
        "\n",
        "X = amazon_clean['token'] # the features we want to analyze\n",
        "ylabels = amazon_clean['sentiment'] # the labels, or answers, we want to test against\n",
        "\n",
        "X_train, X_test, y_train, y_test = train_test_split(X, ylabels, test_size=0.3)"
      ],
      "execution_count": 0,
      "outputs": []
    },
    {
      "cell_type": "code",
      "metadata": {
        "id": "Cj4RCqsOtFRo",
        "colab_type": "code",
        "colab": {
          "base_uri": "https://localhost:8080/",
          "height": 34
        },
        "outputId": "a8150c73-739b-4e9c-a44e-8ce8cec145b0"
      },
      "source": [
        "\n",
        "#Use CountVectorizer to generate an array of unigram counts for each review\n",
        "\n",
        "vectorizer = CountVectorizer(stop_words=None, max_features=None)\n",
        "X = vectorizer.fit(amazon_clean['token'])\n",
        "X = vectorizer.transform(amazon_clean['token'])\n",
        "\n",
        "#Use term frequency - inverse document frequency transformation to weight more informative unigrams\n",
        "\n",
        "tfidf_transformer = TfidfTransformer().fit(X)\n",
        "X_tfidf = tfidf_transformer.transform(X)\n",
        "\n",
        "#Take a look at the shape of the array\n",
        "\n",
        "print(X_tfidf.shape)"
      ],
      "execution_count": 29,
      "outputs": [
        {
          "output_type": "stream",
          "text": [
            "(1000, 1847)\n"
          ],
          "name": "stdout"
        }
      ]
    },
    {
      "cell_type": "markdown",
      "metadata": {
        "id": "eh5smqDQtJys",
        "colab_type": "text"
      },
      "source": [
        "In this dataset, we are separating the data into a training and testing set. The testing set will be 30% of the data."
      ]
    },
    {
      "cell_type": "markdown",
      "metadata": {
        "id": "p0Iz_4ujtMZE",
        "colab_type": "text"
      },
      "source": [
        "There are 1,000 reviews and 1,847 unigrams in this array."
      ]
    },
    {
      "cell_type": "code",
      "metadata": {
        "id": "00M1vUaqtHQO",
        "colab_type": "code",
        "colab": {
          "base_uri": "https://localhost:8080/",
          "height": 34
        },
        "outputId": "677d2ab8-9da4-4054-a108-e137c194a73b"
      },
      "source": [
        "\n",
        "#Refit the model using tfidf in place of the manually constructed keywords list\n",
        "\n",
        "bnb.fit(X_tfidf, target_am)\n",
        "y_pred3 = bnb.predict(X_tfidf)\n",
        "\n",
        "#Read out the result\n",
        "\n",
        "print(\"Number of mislabeled points out of a total {} points : {}\".format(\n",
        "    data.shape[0],\n",
        "    (target_am != y_pred3).sum()\n",
        "))"
      ],
      "execution_count": 30,
      "outputs": [
        {
          "output_type": "stream",
          "text": [
            "Number of mislabeled points out of a total 1000 points : 41\n"
          ],
          "name": "stdout"
        }
      ]
    },
    {
      "cell_type": "code",
      "metadata": {
        "id": "IHGj1_fVtPAQ",
        "colab_type": "code",
        "colab": {
          "base_uri": "https://localhost:8080/",
          "height": 84
        },
        "outputId": "7da48bc1-4665-466f-c1e9-1ab04e5e3f60"
      },
      "source": [
        "#Evaluate the result in a confusion matrix\n",
        "\n",
        "confusion_am = confusion_matrix(target_am, y_pred3)\n",
        "print(confusion_am)\n",
        "\n",
        "type1_error = confusion_am[1][0]/(confusion_am[1][0]+confusion_am[1][1])*100\n",
        "print('Type 1 error: '+str(round(type1_error))+'%')\n",
        "\n",
        "type2_error = confusion_am[0][1]/(confusion_am[0][0]+confusion_am[0][1])*100\n",
        "print('Type 2 error: '+str(round(type2_error))+'%')"
      ],
      "execution_count": 31,
      "outputs": [
        {
          "output_type": "stream",
          "text": [
            "[[468  32]\n",
            " [  9 491]]\n",
            "Type 1 error: 2.0%\n",
            "Type 2 error: 6.0%\n"
          ],
          "name": "stdout"
        }
      ]
    },
    {
      "cell_type": "markdown",
      "metadata": {
        "id": "_mg2K8XztWNJ",
        "colab_type": "text"
      },
      "source": [
        "With our third model, we were able to correctly classify 14 more reviews than the second model. This model has a 95.9% accuracy rate. We misclassfied 9 positive reviews and 32 negative reviews."
      ]
    },
    {
      "cell_type": "markdown",
      "metadata": {
        "id": "3KcPrgoUtcen",
        "colab_type": "text"
      },
      "source": [
        ""
      ]
    },
    {
      "cell_type": "markdown",
      "metadata": {
        "id": "dpBP9kdOtcsR",
        "colab_type": "text"
      },
      "source": [
        "To improve our classification model, we will reevaluate it and cross-validate our data to prevent overfitting."
      ]
    },
    {
      "cell_type": "markdown",
      "metadata": {
        "id": "nWB8XwGEtfGs",
        "colab_type": "text"
      },
      "source": [
        "We will revisit the Yelp dataset to see if we have made progress in classifying the reviews."
      ]
    },
    {
      "cell_type": "markdown",
      "metadata": {
        "id": "G_LEIQ_kth4r",
        "colab_type": "text"
      },
      "source": [
        "###Cross Validation"
      ]
    },
    {
      "cell_type": "markdown",
      "metadata": {
        "id": "T5DfQIs1tm7n",
        "colab_type": "text"
      },
      "source": [
        "Let's trying running the Yelp bag of words after spliting the Yelp dataset. Here, we will be testing only 30% of the Yelp Review data."
      ]
    },
    {
      "cell_type": "code",
      "metadata": {
        "id": "xkvYXPwUtTw8",
        "colab_type": "code",
        "colab": {}
      },
      "source": [
        "\n",
        "target_ye = yelp_clean['sentiment']"
      ],
      "execution_count": 0,
      "outputs": []
    },
    {
      "cell_type": "code",
      "metadata": {
        "id": "6Vy399lZtwzS",
        "colab_type": "code",
        "colab": {}
      },
      "source": [
        "\n",
        "# Split data into training and testing set\n",
        "\n",
        "X = yelp_clean['token'] # the features we want to analyze\n",
        "ylabels = yelp_clean['sentiment'] # the labels, or answers, we want to test against\n",
        "\n",
        "X_train, X_test, y_train, y_test = train_test_split(X, ylabels, test_size=0.3)"
      ],
      "execution_count": 0,
      "outputs": []
    },
    {
      "cell_type": "code",
      "metadata": {
        "id": "IrBX_zBBt2PR",
        "colab_type": "code",
        "colab": {
          "base_uri": "https://localhost:8080/",
          "height": 34
        },
        "outputId": "10fa3b54-fe4a-4239-c669-5ea7adc97ebd"
      },
      "source": [
        "#Use CountVectorizer to generate an array of unigram counts for each review\n",
        "\n",
        "vectorizer = CountVectorizer(stop_words=None, max_features=None)\n",
        "X = vectorizer.fit(yelp_clean['token'])\n",
        "X = vectorizer.transform(yelp_clean['token'])\n",
        "\n",
        "#Use term frequency - inverse document frequency transformation to weight more informative unigrams\n",
        "\n",
        "tfidf_transformer = TfidfTransformer().fit(X)\n",
        "X_tfidf = tfidf_transformer.transform(X)\n",
        "\n",
        "#Take a look at the shape of the array\n",
        "\n",
        "print(X_tfidf.shape)"
      ],
      "execution_count": 34,
      "outputs": [
        {
          "output_type": "stream",
          "text": [
            "(1000, 2035)\n"
          ],
          "name": "stdout"
        }
      ]
    },
    {
      "cell_type": "markdown",
      "metadata": {
        "id": "UXFYjW_nt_on",
        "colab_type": "text"
      },
      "source": [
        "There are 1,000 reviews and 2,035 unigrams in this array."
      ]
    },
    {
      "cell_type": "markdown",
      "metadata": {
        "id": "ArxqAqZjuCQA",
        "colab_type": "text"
      },
      "source": [
        "Now, we will continue by refitting the model with the new bag of words after splitting the data."
      ]
    },
    {
      "cell_type": "code",
      "metadata": {
        "id": "nzIOmdrUt8_t",
        "colab_type": "code",
        "colab": {
          "base_uri": "https://localhost:8080/",
          "height": 34
        },
        "outputId": "188f3109-f6cf-419f-868f-67a9011e4a83"
      },
      "source": [
        "\n",
        "#Refit the model using tfidf in place of the manually constructed keywords list\n",
        "\n",
        "bnb.fit(X_tfidf, target_ye)\n",
        "y_pred4 = bnb.predict(X_tfidf)\n",
        "\n",
        "#Read out the result\n",
        "\n",
        "print(\"Number of mislabeled points out of a total {} points : {}\".format(\n",
        "    data.shape[0],\n",
        "    (target_ye != y_pred4).sum()\n",
        "))"
      ],
      "execution_count": 35,
      "outputs": [
        {
          "output_type": "stream",
          "text": [
            "Number of mislabeled points out of a total 1000 points : 55\n"
          ],
          "name": "stdout"
        }
      ]
    },
    {
      "cell_type": "code",
      "metadata": {
        "id": "9PPpdh7HuIeM",
        "colab_type": "code",
        "colab": {
          "base_uri": "https://localhost:8080/",
          "height": 84
        },
        "outputId": "1fcb4f16-3e0f-40dc-fee6-e2417f23ca94"
      },
      "source": [
        "\n",
        "#Evaluate the result in a confusion matrix\n",
        "\n",
        "confusion_ye = confusion_matrix(target_ye, y_pred4)\n",
        "print(confusion_ye)\n",
        "\n",
        "type1_error = confusion_ye[1][0]/(confusion_ye[1][0]+confusion_ye[1][1])*100\n",
        "print('Type 1 error: '+str(round(type1_error))+'%')\n",
        "\n",
        "type2_error = confusion_ye[0][1]/(confusion_ye[0][0]+confusion_ye[0][1])*100\n",
        "print('Type 2 error: '+str(round(type2_error))+'%')"
      ],
      "execution_count": 36,
      "outputs": [
        {
          "output_type": "stream",
          "text": [
            "[[474  26]\n",
            " [ 29 471]]\n",
            "Type 1 error: 6.0%\n",
            "Type 2 error: 5.0%\n"
          ],
          "name": "stdout"
        }
      ]
    },
    {
      "cell_type": "markdown",
      "metadata": {
        "id": "9d5W6Y5AuT8P",
        "colab_type": "text"
      },
      "source": [
        "The result of this model resembles our second model where we first introduced bag of words without splitting the data. This model yields 94.5% accuracy as the second model, but has a slightly different ratio of type errors. We misclassified 29 positive reviews and 26 negative reviews."
      ]
    },
    {
      "cell_type": "markdown",
      "metadata": {
        "id": "C_dlGjgSuWnJ",
        "colab_type": "text"
      },
      "source": [
        "Next, we will continue to analyze the accuracy of our model by using cross validation to lower the amount of noise dection. Instead of splitting the data into 30 test and 70 train, we will use 10 random folds. We will also introduce limit parameter to the count vectorize to minimize overfitting the data."
      ]
    },
    {
      "cell_type": "code",
      "metadata": {
        "id": "jErMyscBuUnS",
        "colab_type": "code",
        "colab": {}
      },
      "source": [
        "\n",
        "# create X (features) and y (response)\n",
        "\n",
        "X = yelp_clean['token']\n",
        "y = yelp_clean['sentiment']\n",
        "yelp_token = yelp_clean['token']"
      ],
      "execution_count": 0,
      "outputs": []
    },
    {
      "cell_type": "code",
      "metadata": {
        "id": "x185eyOZuZCB",
        "colab_type": "code",
        "colab": {
          "base_uri": "https://localhost:8080/",
          "height": 1000
        },
        "outputId": "ad71f007-6022-48ec-be6e-375ad563f7b4"
      },
      "source": [
        "kf = KFold(n_splits=10, shuffle=True)\n",
        "pipeline = Pipeline([\n",
        "    ('vectorizer',  CountVectorizer(stop_words='english', min_df=2, max_df=0.8)),\n",
        "    ('tfidf', TfidfTransformer()),\n",
        "    ('classifier',  BernoulliNB()),\n",
        "    ])\n",
        "num = 1\n",
        "for train_index, test_index in kf.split(yelp_token):\n",
        "    X_train, X_test = yelp_token[train_index], yelp_token[test_index]\n",
        "    y_train, y_test = target[train_index], target[test_index]\n",
        "    pipeline.fit(X_train, y_train)\n",
        "    predictions = pipeline.predict(X_test)\n",
        "    \n",
        "    \n",
        "    #Evaluate the results\n",
        "    print('------------------')\n",
        "    print('Fold '+str(num))\n",
        "    print(\"Number of mislabeled points out of a total {} points : {}\".format(\n",
        "    (round(data.shape[0]/10)),\n",
        "    (target[test_index] != predictions).sum()\n",
        "))\n",
        "    confusion = confusion_matrix(y_test, predictions)\n",
        "    print(confusion)\n",
        "    \n",
        "    type1_error = confusion[1][0]/(confusion[1][0]+confusion[1][1])*100\n",
        "    print('Type 1 error: '+str(round(type1_error))+'%')\n",
        "    \n",
        "    type2_error = confusion[0][1]/(confusion[0][0]+confusion[0][1])*100\n",
        "    print('Type 2 error: '+str(round(type2_error))+'%')\n",
        "    \n",
        "    num+=1"
      ],
      "execution_count": 38,
      "outputs": [
        {
          "output_type": "stream",
          "text": [
            "------------------\n",
            "Fold 1\n",
            "Number of mislabeled points out of a total 100 points : 31\n",
            "[[33 13]\n",
            " [18 36]]\n",
            "Type 1 error: 33.0%\n",
            "Type 2 error: 28.0%\n",
            "------------------\n",
            "Fold 2\n",
            "Number of mislabeled points out of a total 100 points : 21\n",
            "[[38 13]\n",
            " [ 8 41]]\n",
            "Type 1 error: 16.0%\n",
            "Type 2 error: 25.0%\n",
            "------------------\n",
            "Fold 3\n",
            "Number of mislabeled points out of a total 100 points : 29\n",
            "[[36 14]\n",
            " [15 35]]\n",
            "Type 1 error: 30.0%\n",
            "Type 2 error: 28.0%\n",
            "------------------\n",
            "Fold 4\n",
            "Number of mislabeled points out of a total 100 points : 16\n",
            "[[40  9]\n",
            " [ 7 44]]\n",
            "Type 1 error: 14.0%\n",
            "Type 2 error: 18.0%\n",
            "------------------\n",
            "Fold 5\n",
            "Number of mislabeled points out of a total 100 points : 24\n",
            "[[34 11]\n",
            " [13 42]]\n",
            "Type 1 error: 24.0%\n",
            "Type 2 error: 24.0%\n",
            "------------------\n",
            "Fold 6\n",
            "Number of mislabeled points out of a total 100 points : 24\n",
            "[[36 14]\n",
            " [10 40]]\n",
            "Type 1 error: 20.0%\n",
            "Type 2 error: 28.0%\n",
            "------------------\n",
            "Fold 7\n",
            "Number of mislabeled points out of a total 100 points : 19\n",
            "[[33 12]\n",
            " [ 7 48]]\n",
            "Type 1 error: 13.0%\n",
            "Type 2 error: 27.0%\n",
            "------------------\n",
            "Fold 8\n",
            "Number of mislabeled points out of a total 100 points : 20\n",
            "[[40 12]\n",
            " [ 8 40]]\n",
            "Type 1 error: 17.0%\n",
            "Type 2 error: 23.0%\n",
            "------------------\n",
            "Fold 9\n",
            "Number of mislabeled points out of a total 100 points : 25\n",
            "[[45 20]\n",
            " [ 5 30]]\n",
            "Type 1 error: 14.0%\n",
            "Type 2 error: 31.0%\n",
            "------------------\n",
            "Fold 10\n",
            "Number of mislabeled points out of a total 100 points : 17\n",
            "[[41  6]\n",
            " [11 42]]\n",
            "Type 1 error: 21.0%\n",
            "Type 2 error: 13.0%\n"
          ],
          "name": "stdout"
        }
      ]
    },
    {
      "cell_type": "code",
      "metadata": {
        "id": "E8mn76dGubd6",
        "colab_type": "code",
        "colab": {
          "base_uri": "https://localhost:8080/",
          "height": 34
        },
        "outputId": "3be43218-3966-47a7-aa25-eb4f6d6b7e15"
      },
      "source": [
        "cross_val_score(bnb, data, target, cv=10)"
      ],
      "execution_count": 39,
      "outputs": [
        {
          "output_type": "execute_result",
          "data": {
            "text/plain": [
              "array([0.6 , 0.55, 0.57, 0.54, 0.55, 0.54, 0.55, 0.58, 0.55, 0.53])"
            ]
          },
          "metadata": {
            "tags": []
          },
          "execution_count": 39
        }
      ]
    },
    {
      "cell_type": "markdown",
      "metadata": {
        "id": "K4faLxccuuoq",
        "colab_type": "text"
      },
      "source": [
        "fter running the third model through 10 random folds, the accuracy of the model ranges from 70% to 80%. This shows that there is stability within the model process. If given a new set of data, the model should be able to produce 70% to 80% accuracy. Although this accuracy rate may not be excellent, is is definitely better than our first model without counter vectorization.\n",
        "Other parameters might be able to improve the performance of our current model. Also, feature selections that are more complex than a Naives Baynes classification might improve the accuracy of the model."
      ]
    },
    {
      "cell_type": "code",
      "metadata": {
        "id": "J7khhOQrukaG",
        "colab_type": "code",
        "colab": {}
      },
      "source": [
        ""
      ],
      "execution_count": 0,
      "outputs": []
    }
  ]
}