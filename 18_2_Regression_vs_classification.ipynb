{
  "nbformat": 4,
  "nbformat_minor": 0,
  "metadata": {
    "colab": {
      "name": "18.2_Regression vs. classification.ipynb",
      "provenance": []
    },
    "kernelspec": {
      "name": "python3",
      "display_name": "Python 3"
    }
  },
  "cells": [
    {
      "cell_type": "code",
      "metadata": {
        "id": "n938o6dc5QdJ",
        "colab_type": "code",
        "colab": {}
      },
      "source": [
        ""
      ],
      "execution_count": 0,
      "outputs": []
    },
    {
      "cell_type": "markdown",
      "metadata": {
        "id": "9EILi8mO5RT_",
        "colab_type": "text"
      },
      "source": [
        "# Assignment\n",
        "\n",
        "For each of the following situations, decide if you would model using a regression or classification model.\n",
        "\n",
        "1. The amount a person will spend on a given site in the next 24 months.\n",
        "\n",
        "Since the outcome variable is continous, a regression model would be able to output an unbounded number line for the varing length of time a person would spend on a given site.\n",
        "\n",
        "\n",
        "2. What color car someone is going to buy.\n",
        "\n",
        "A classification model would be suitable for predicting which color car would be selected since color can be categorized.\n",
        "\n",
        "\n",
        "3. How many children a family will have.\n",
        "\n",
        "Both regression or classification models could be used to estimate how many children a family will have. Having children can be considered a continous variable which would make a regression model suitable. In a classification model, the amount of children could be split into groups such as 0, 1, 2, 3 or more children.\n",
        "\n",
        "\n",
        "4. If someone will sign up for a service.\n",
        "\n",
        "A classification model could output sign up or not sign up.\n",
        "\n",
        "\n",
        "5. The number of times someone will get sick in a year.\n",
        "\n",
        "If the numbers of time someone got sick was split into groups such as once, twice, or more per year, then a classification model would be suitable. A regression model could also be used by not limiting the amount of times a person can get sick in a year.\n",
        "\n",
        "\n",
        "6. The probability someone will get sick in the next month.\n",
        "\n",
        "A regression model is able to give the average outcome of a variable."
      ]
    },
    {
      "cell_type": "code",
      "metadata": {
        "id": "qYYgnnDF5S8y",
        "colab_type": "code",
        "colab": {}
      },
      "source": [
        ""
      ],
      "execution_count": 0,
      "outputs": []
    }
  ]
}